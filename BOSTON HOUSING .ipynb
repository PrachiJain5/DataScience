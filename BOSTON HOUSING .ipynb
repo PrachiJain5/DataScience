{
 "cells": [
  {
   "cell_type": "code",
   "execution_count": 1,
   "metadata": {
    "collapsed": false
   },
   "outputs": [
    {
     "name": "stderr",
     "output_type": "stream",
     "text": [
      "C:\\Users\\pjain29\\AppData\\Local\\Continuum\\Anaconda3\\lib\\site-packages\\sklearn\\cross_validation.py:44: DeprecationWarning: This module was deprecated in version 0.18 in favor of the model_selection module into which all the refactored classes and functions are moved. Also note that the interface of the new CV iterators are different from that of this module. This module will be removed in 0.20.\n",
      "  \"This module will be removed in 0.20.\", DeprecationWarning)\n"
     ]
    }
   ],
   "source": [
    "from sklearn import datasets\n",
    "import pandas as pd\n",
    "from sklearn.preprocessing import StandardScaler\n",
    "from sklearn.cross_validation import train_test_split\n",
    "from sklearn.metrics import mean_squared_error\n",
    "from sklearn.metrics import r2_score\n",
    "from sklearn.linear_model import LinearRegression\n",
    "from sklearn.linear_model import Ridge"
   ]
  },
  {
   "cell_type": "code",
   "execution_count": 3,
   "metadata": {
    "collapsed": false
   },
   "outputs": [
    {
     "name": "stdout",
     "output_type": "stream",
     "text": [
      "Boston House Prices dataset\n",
      "===========================\n",
      "\n",
      "Notes\n",
      "------\n",
      "Data Set Characteristics:  \n",
      "\n",
      "    :Number of Instances: 506 \n",
      "\n",
      "    :Number of Attributes: 13 numeric/categorical predictive\n",
      "    \n",
      "    :Median Value (attribute 14) is usually the target\n",
      "\n",
      "    :Attribute Information (in order):\n",
      "        - CRIM     per capita crime rate by town\n",
      "        - ZN       proportion of residential land zoned for lots over 25,000 sq.ft.\n",
      "        - INDUS    proportion of non-retail business acres per town\n",
      "        - CHAS     Charles River dummy variable (= 1 if tract bounds river; 0 otherwise)\n",
      "        - NOX      nitric oxides concentration (parts per 10 million)\n",
      "        - RM       average number of rooms per dwelling\n",
      "        - AGE      proportion of owner-occupied units built prior to 1940\n",
      "        - DIS      weighted distances to five Boston employment centres\n",
      "        - RAD      index of accessibility to radial highways\n",
      "        - TAX      full-value property-tax rate per $10,000\n",
      "        - PTRATIO  pupil-teacher ratio by town\n",
      "        - B        1000(Bk - 0.63)^2 where Bk is the proportion of blacks by town\n",
      "        - LSTAT    % lower status of the population\n",
      "        - MEDV     Median value of owner-occupied homes in $1000's\n",
      "\n",
      "    :Missing Attribute Values: None\n",
      "\n",
      "    :Creator: Harrison, D. and Rubinfeld, D.L.\n",
      "\n",
      "This is a copy of UCI ML housing dataset.\n",
      "http://archive.ics.uci.edu/ml/datasets/Housing\n",
      "\n",
      "\n",
      "This dataset was taken from the StatLib library which is maintained at Carnegie Mellon University.\n",
      "\n",
      "The Boston house-price data of Harrison, D. and Rubinfeld, D.L. 'Hedonic\n",
      "prices and the demand for clean air', J. Environ. Economics & Management,\n",
      "vol.5, 81-102, 1978.   Used in Belsley, Kuh & Welsch, 'Regression diagnostics\n",
      "...', Wiley, 1980.   N.B. Various transformations are used in the table on\n",
      "pages 244-261 of the latter.\n",
      "\n",
      "The Boston house-price data has been used in many machine learning papers that address regression\n",
      "problems.   \n",
      "     \n",
      "**References**\n",
      "\n",
      "   - Belsley, Kuh & Welsch, 'Regression diagnostics: Identifying Influential Data and Sources of Collinearity', Wiley, 1980. 244-261.\n",
      "   - Quinlan,R. (1993). Combining Instance-Based and Model-Based Learning. In Proceedings on the Tenth International Conference of Machine Learning, 236-243, University of Massachusetts, Amherst. Morgan Kaufmann.\n",
      "   - many more! (see http://archive.ics.uci.edu/ml/datasets/Housing)\n",
      "\n"
     ]
    }
   ],
   "source": [
    "bean = datasets.load_boston()\n",
    "print (bean.DESCR);"
   ]
  },
  {
   "cell_type": "code",
   "execution_count": 4,
   "metadata": {
    "collapsed": true
   },
   "outputs": [],
   "source": [
    "def load_boston():\n",
    "    scaler = StandardScaler()\n",
    "    boston = datasets.load_boston()\n",
    "    X=boston.data\n",
    "    y=boston.target\n",
    "    X = scaler.fit_transform(X)\n",
    "    return train_test_split(X,y)"
   ]
  },
  {
   "cell_type": "code",
   "execution_count": 5,
   "metadata": {
    "collapsed": true
   },
   "outputs": [],
   "source": [
    "X_train, X_test, y_train, y_test = load_boston()"
   ]
  },
  {
   "cell_type": "code",
   "execution_count": 6,
   "metadata": {
    "collapsed": false
   },
   "outputs": [
    {
     "data": {
      "text/plain": [
       "(379, 13)"
      ]
     },
     "execution_count": 6,
     "metadata": {},
     "output_type": "execute_result"
    }
   ],
   "source": [
    "X_train.shape"
   ]
  },
  {
   "cell_type": "code",
   "execution_count": 7,
   "metadata": {
    "collapsed": false
   },
   "outputs": [
    {
     "data": {
      "text/plain": [
       "LinearRegression(copy_X=True, fit_intercept=True, n_jobs=1, normalize=False)"
      ]
     },
     "execution_count": 7,
     "metadata": {},
     "output_type": "execute_result"
    }
   ],
   "source": [
    "clf = LinearRegression()\n",
    "clf.fit(X_train, y_train)"
   ]
  },
  {
   "cell_type": "code",
   "execution_count": 19,
   "metadata": {
    "collapsed": false
   },
   "outputs": [
    {
     "data": {
      "text/plain": [
       "[(24.0, 30.52921266216272),\n",
       " (19.0, 20.958181798035767),\n",
       " (46.700000000000003, 34.542365937567077),\n",
       " (19.300000000000001, 20.899333126985514),\n",
       " (16.600000000000001, 15.951981099242454),\n",
       " (10.9, 18.883100372102099),\n",
       " (23.399999999999999, 23.338051892218239),\n",
       " (29.899999999999999, 31.93763517661343),\n",
       " (50.0, 43.423542205358729),\n",
       " (20.600000000000001, 22.506395957688831),\n",
       " (30.100000000000001, 35.684549474769568),\n",
       " (15.6, 19.369280330041029),\n",
       " (30.100000000000001, 24.753230814122162),\n",
       " (41.700000000000003, 38.092029564932659),\n",
       " (12.1, 18.641958254717927),\n",
       " (22.699999999999999, 22.327281717389869),\n",
       " (30.5, 30.336926559643263),\n",
       " (17.199999999999999, 14.188961467523333),\n",
       " (19.199999999999999, 20.339622897732326),\n",
       " (18.0, 19.119300488687497),\n",
       " (20.100000000000001, 24.083708458983885),\n",
       " (23.699999999999999, 27.961504919123485),\n",
       " (31.600000000000001, 32.814319486107678),\n",
       " (50.0, 42.148671934733159),\n",
       " (12.800000000000001, 13.407009486287331),\n",
       " (14.0, 13.326032426481191),\n",
       " (19.300000000000001, 21.956338669028565),\n",
       " (21.199999999999999, 21.448619169219814),\n",
       " (20.0, 18.919030698187385),\n",
       " (17.800000000000001, 17.840774913755357),\n",
       " (39.799999999999997, 34.815277759937828),\n",
       " (22.800000000000001, 29.225804463388602),\n",
       " (23.100000000000001, 24.93834933604375),\n",
       " (22.600000000000001, 27.504802958361111),\n",
       " (23.0, 20.444009660012984),\n",
       " (50.0, 43.124778976604105),\n",
       " (5.5999999999999996, 12.297117046267076),\n",
       " (20.300000000000001, 24.045928024104803),\n",
       " (44.0, 36.788321277516957),\n",
       " (23.100000000000001, 24.392633047934904),\n",
       " (24.0, 25.505315281510853),\n",
       " (48.5, 41.042891095079582),\n",
       " (21.5, 20.924059325340796),\n",
       " (23.699999999999999, 9.5245960758716564),\n",
       " (19.399999999999999, 17.392026301346874),\n",
       " (22.0, 26.380182517301161),\n",
       " (15.0, 19.399101204416933),\n",
       " (24.100000000000001, 24.981735812145157),\n",
       " (22.399999999999999, 22.289392234206687),\n",
       " (32.399999999999999, 35.398997857191283),\n",
       " (16.100000000000001, 18.904657898853536),\n",
       " (12.699999999999999, 12.646297723320515),\n",
       " (21.699999999999999, 20.590021762531833),\n",
       " (14.300000000000001, 17.033302984699336),\n",
       " (10.199999999999999, 16.318639895969049),\n",
       " (31.699999999999999, 33.612262166184571),\n",
       " (18.600000000000001, 20.091350822343653),\n",
       " (38.700000000000003, 36.092374341399207),\n",
       " (23.699999999999999, 27.784369247725415),\n",
       " (13.300000000000001, 13.913890449250557),\n",
       " (13.1, 20.789875851363227),\n",
       " (13.9, 17.855114988994231),\n",
       " (23.0, 23.312180620222829),\n",
       " (19.100000000000001, 17.478970738462692),\n",
       " (19.0, 14.497442081351002),\n",
       " (20.0, 17.331288210827712),\n",
       " (10.5, 13.112069702626391),\n",
       " (14.6, 8.3167245558147389),\n",
       " (31.600000000000001, 32.742088369263747),\n",
       " (23.899999999999999, 25.373823283540439),\n",
       " (21.600000000000001, 25.552031992435175),\n",
       " (28.399999999999999, 28.959941328303412),\n",
       " (18.600000000000001, 16.785457389545911),\n",
       " (25.0, 24.927904207735718),\n",
       " (18.899999999999999, 15.33907095241905),\n",
       " (28.699999999999999, 25.599123553357309),\n",
       " (13.5, 12.82841912326273),\n",
       " (18.800000000000001, 20.245418912194371),\n",
       " (21.399999999999999, 20.510343891316168),\n",
       " (20.199999999999999, 22.978517411939919),\n",
       " (13.5, 13.85343292774639),\n",
       " (22.5, 28.935320893975074),\n",
       " (29.600000000000001, 24.904234531030056),\n",
       " (6.2999999999999998, 10.553170927490267),\n",
       " (37.200000000000003, 32.92612950837691),\n",
       " (16.699999999999999, 20.984014028180447),\n",
       " (12.699999999999999, 18.651204176095849),\n",
       " (17.5, 16.931603725042216),\n",
       " (24.800000000000001, 30.911778558802048),\n",
       " (21.199999999999999, 22.812748912275328),\n",
       " (31.199999999999999, 28.10330570032648),\n",
       " (8.3000000000000007, 13.875044228053904),\n",
       " (20.699999999999999, 21.157785898486395),\n",
       " (21.899999999999999, 23.851984676310238),\n",
       " (16.0, 19.088734179298775),\n",
       " (34.899999999999999, 34.510025440552852),\n",
       " (26.600000000000001, 27.107967218587032),\n",
       " (17.100000000000001, 19.561209891060738),\n",
       " (18.699999999999999, 21.501369730576251),\n",
       " (22.699999999999999, 25.601050626367574),\n",
       " (23.199999999999999, 26.793820320785201),\n",
       " (22.5, 17.953794547320694),\n",
       " (14.5, 18.390681320056046),\n",
       " (25.199999999999999, 26.429224331300201),\n",
       " (42.799999999999997, 28.752419898672173),\n",
       " (31.100000000000001, 31.374822416069602),\n",
       " (22.0, 21.243718691360606),\n",
       " (31.5, 30.83840455952673),\n",
       " (13.4, 13.063409236169218),\n",
       " (19.199999999999999, 24.562071749748117),\n",
       " (36.399999999999999, 32.799978274424696),\n",
       " (19.800000000000001, 23.355400597748861),\n",
       " (18.5, 19.279426968048977),\n",
       " (26.399999999999999, 28.320655552334905),\n",
       " (27.5, 15.957853476662816),\n",
       " (24.5, 21.270330997299613),\n",
       " (20.300000000000001, 19.683085649012511),\n",
       " (18.5, 19.93839255508178),\n",
       " (18.800000000000001, 21.611262316769526),\n",
       " (36.0, 36.946604605237454),\n",
       " (24.800000000000001, 24.49332208861793),\n",
       " (23.899999999999999, 24.751481093504619),\n",
       " (23.600000000000001, 29.833784521820668),\n",
       " (24.800000000000001, 25.782415115458775),\n",
       " (28.600000000000001, 28.176273996025611),\n",
       " (31.0, 34.653929353110186),\n",
       " (23.0, 24.005200715863559)]"
      ]
     },
     "execution_count": 19,
     "metadata": {},
     "output_type": "execute_result"
    }
   ],
   "source": [
    "list(zip (y_test, clf.predict(X_test)))"
   ]
  },
  {
   "cell_type": "code",
   "execution_count": 9,
   "metadata": {
    "collapsed": true
   },
   "outputs": [],
   "source": [
    "yLrPre=clf.predict(X_test)"
   ]
  },
  {
   "cell_type": "code",
   "execution_count": 10,
   "metadata": {
    "collapsed": true
   },
   "outputs": [],
   "source": [
    "r2Score=r2_score(y_test,yLrPre)"
   ]
  },
  {
   "cell_type": "code",
   "execution_count": 20,
   "metadata": {
    "collapsed": false
   },
   "outputs": [
    {
     "data": {
      "text/plain": [
       "0.7819380436928044"
      ]
     },
     "execution_count": 20,
     "metadata": {},
     "output_type": "execute_result"
    }
   ],
   "source": [
    "r2Score"
   ]
  },
  {
   "cell_type": "markdown",
   "metadata": {},
   "source": [
    "R^2 Score on Linear Regressor is 0.7819380436928044"
   ]
  },
  {
   "cell_type": "code",
   "execution_count": 21,
   "metadata": {
    "collapsed": true
   },
   "outputs": [],
   "source": [
    "mseValue=mean_squared_error(y_test,yLrPre)"
   ]
  },
  {
   "cell_type": "code",
   "execution_count": 22,
   "metadata": {
    "collapsed": false
   },
   "outputs": [
    {
     "data": {
      "text/plain": [
       "17.407549732878042"
      ]
     },
     "execution_count": 22,
     "metadata": {},
     "output_type": "execute_result"
    }
   ],
   "source": [
    "mseValue"
   ]
  },
  {
   "cell_type": "markdown",
   "metadata": {},
   "source": [
    "MSE on Linear Regressor is 17.407549732878042"
   ]
  },
  {
   "cell_type": "code",
   "execution_count": 23,
   "metadata": {
    "collapsed": true
   },
   "outputs": [],
   "source": [
    "ridge=Ridge(alpha=0.01)"
   ]
  },
  {
   "cell_type": "code",
   "execution_count": 24,
   "metadata": {
    "collapsed": false
   },
   "outputs": [
    {
     "data": {
      "text/plain": [
       "Ridge(alpha=0.01, copy_X=True, fit_intercept=True, max_iter=None,\n",
       "   normalize=False, random_state=None, solver='auto', tol=0.001)"
      ]
     },
     "execution_count": 24,
     "metadata": {},
     "output_type": "execute_result"
    }
   ],
   "source": [
    "ridge.fit(X_train,y_train)"
   ]
  },
  {
   "cell_type": "code",
   "execution_count": 25,
   "metadata": {
    "collapsed": false
   },
   "outputs": [
    {
     "data": {
      "text/plain": [
       "[(24.0, 30.529413636922293),\n",
       " (19.0, 20.95819351410448),\n",
       " (46.700000000000003, 34.542272051642243),\n",
       " (19.300000000000001, 20.899544814403377),\n",
       " (16.600000000000001, 15.952332090935387),\n",
       " (10.9, 18.883046230946139),\n",
       " (23.399999999999999, 23.338145225676556),\n",
       " (29.899999999999999, 31.937393174474785),\n",
       " (50.0, 43.42309493544473),\n",
       " (20.600000000000001, 22.506424140510404),\n",
       " (30.100000000000001, 35.683983890099086),\n",
       " (15.6, 19.370133697061483),\n",
       " (30.100000000000001, 24.753148399249177),\n",
       " (41.700000000000003, 38.091827267946485),\n",
       " (12.1, 18.641878620070528),\n",
       " (22.699999999999999, 22.327576609598449),\n",
       " (30.5, 30.337157279411652),\n",
       " (17.199999999999999, 14.188530363326983),\n",
       " (19.199999999999999, 20.339910176068596),\n",
       " (18.0, 19.119611396983547),\n",
       " (20.100000000000001, 24.083444609782724),\n",
       " (23.699999999999999, 27.961352916997651),\n",
       " (31.600000000000001, 32.813854938678055),\n",
       " (50.0, 42.147726839859061),\n",
       " (12.800000000000001, 13.407073024572229),\n",
       " (14.0, 13.326534958870791),\n",
       " (19.300000000000001, 21.956204691475797),\n",
       " (21.199999999999999, 21.448842330593504),\n",
       " (20.0, 18.919024778680974),\n",
       " (17.800000000000001, 17.840945843264777),\n",
       " (39.799999999999997, 34.814958027841115),\n",
       " (22.800000000000001, 29.225616147735494),\n",
       " (23.100000000000001, 24.93834232292873),\n",
       " (22.600000000000001, 27.504798015778242),\n",
       " (23.0, 20.444280865279254),\n",
       " (50.0, 43.124549838556561),\n",
       " (5.5999999999999996, 12.297298970050822),\n",
       " (20.300000000000001, 24.045758480372488),\n",
       " (44.0, 36.78763994507927),\n",
       " (23.100000000000001, 24.392672025956106),\n",
       " (24.0, 25.504945887789788),\n",
       " (48.5, 41.041931312157594),\n",
       " (21.5, 20.924564444060309),\n",
       " (23.699999999999999, 9.5249684549111855),\n",
       " (19.399999999999999, 17.392068823454),\n",
       " (22.0, 26.380220550786941),\n",
       " (15.0, 19.399396332312229),\n",
       " (24.100000000000001, 24.981922448282546),\n",
       " (22.399999999999999, 22.289445489747358),\n",
       " (32.399999999999999, 35.398575292486953),\n",
       " (16.100000000000001, 18.904653039511338),\n",
       " (12.699999999999999, 12.646334806639508),\n",
       " (21.699999999999999, 20.590216831199101),\n",
       " (14.300000000000001, 17.03331434746022),\n",
       " (10.199999999999999, 16.318239323486974),\n",
       " (31.699999999999999, 33.611904549015087),\n",
       " (18.600000000000001, 20.091548063553567),\n",
       " (38.700000000000003, 36.092479489573151),\n",
       " (23.699999999999999, 27.783808768141476),\n",
       " (13.300000000000001, 13.914237808753178),\n",
       " (13.1, 20.789729394767917),\n",
       " (13.9, 17.855136167796992),\n",
       " (23.0, 23.312413756203501),\n",
       " (19.100000000000001, 17.478588672560704),\n",
       " (19.0, 14.497276596282811),\n",
       " (20.0, 17.3312605244721),\n",
       " (10.5, 13.112300558114647),\n",
       " (14.6, 8.3174269690095706),\n",
       " (31.600000000000001, 32.741486326186759),\n",
       " (23.899999999999999, 25.373596767931687),\n",
       " (21.600000000000001, 25.55195366117502),\n",
       " (28.399999999999999, 28.959930653543669),\n",
       " (18.600000000000001, 16.78656427003661),\n",
       " (25.0, 24.927985992189765),\n",
       " (18.899999999999999, 15.339971313816246),\n",
       " (28.699999999999999, 25.599239480323831),\n",
       " (13.5, 12.828499018236908),\n",
       " (18.800000000000001, 20.244429783324996),\n",
       " (21.399999999999999, 20.510267872902912),\n",
       " (20.199999999999999, 22.978445176405291),\n",
       " (13.5, 13.853821038982527),\n",
       " (22.5, 28.935274856055365),\n",
       " (29.600000000000001, 24.903925895159638),\n",
       " (6.2999999999999998, 10.553351069589914),\n",
       " (37.200000000000003, 32.925727199500784),\n",
       " (16.699999999999999, 20.98372239773996),\n",
       " (12.699999999999999, 18.651004132934869),\n",
       " (17.5, 16.932590176522325),\n",
       " (24.800000000000001, 30.911727286007832),\n",
       " (21.199999999999999, 22.812741210551138),\n",
       " (31.199999999999999, 28.103662592027877),\n",
       " (8.3000000000000007, 13.874942147089026),\n",
       " (20.699999999999999, 21.158081134081819),\n",
       " (21.899999999999999, 23.852236553309403),\n",
       " (16.0, 19.088492727834968),\n",
       " (34.899999999999999, 34.510005338457788),\n",
       " (26.600000000000001, 27.108146060359257),\n",
       " (17.100000000000001, 19.561511038964426),\n",
       " (18.699999999999999, 21.501569061720684),\n",
       " (22.699999999999999, 25.600685937273621),\n",
       " (23.199999999999999, 26.793449138997246),\n",
       " (22.5, 17.953723899762529),\n",
       " (14.5, 18.39026949781309),\n",
       " (25.199999999999999, 26.428958559311543),\n",
       " (42.799999999999997, 28.753257976836466),\n",
       " (31.100000000000001, 31.374738044672494),\n",
       " (22.0, 21.242808596416378),\n",
       " (31.5, 30.838068639899841),\n",
       " (13.4, 13.063198823289888),\n",
       " (19.199999999999999, 24.562161530666735),\n",
       " (36.399999999999999, 32.800264197723301),\n",
       " (19.800000000000001, 23.355547760913968),\n",
       " (18.5, 19.279505807331745),\n",
       " (26.399999999999999, 28.320396466301879),\n",
       " (27.5, 15.956944545030677),\n",
       " (24.5, 21.270605126940744),\n",
       " (20.300000000000001, 19.682937433329791),\n",
       " (18.5, 19.938326444338919),\n",
       " (18.800000000000001, 21.611381851357269),\n",
       " (36.0, 36.946139190100972),\n",
       " (24.800000000000001, 24.493560073814621),\n",
       " (23.899999999999999, 24.751532732893111),\n",
       " (23.600000000000001, 29.833424877925907),\n",
       " (24.800000000000001, 25.782331167964021),\n",
       " (28.600000000000001, 28.176100036479799),\n",
       " (31.0, 34.653620224557251),\n",
       " (23.0, 24.004695393511163)]"
      ]
     },
     "execution_count": 25,
     "metadata": {},
     "output_type": "execute_result"
    }
   ],
   "source": [
    "list(zip(y_test,ridge.predict(X_test)))"
   ]
  },
  {
   "cell_type": "code",
   "execution_count": 26,
   "metadata": {
    "collapsed": true
   },
   "outputs": [],
   "source": [
    "yRPre = ridge.predict(X_test)"
   ]
  },
  {
   "cell_type": "code",
   "execution_count": 27,
   "metadata": {
    "collapsed": true
   },
   "outputs": [],
   "source": [
    "r2rScore=r2_score(y_test,yRPre)"
   ]
  },
  {
   "cell_type": "code",
   "execution_count": 28,
   "metadata": {
    "collapsed": false
   },
   "outputs": [
    {
     "data": {
      "text/plain": [
       "0.78193943745052819"
      ]
     },
     "execution_count": 28,
     "metadata": {},
     "output_type": "execute_result"
    }
   ],
   "source": [
    "r2rScore"
   ]
  },
  {
   "cell_type": "markdown",
   "metadata": {},
   "source": [
    "R^2 score on the Ridge linear regressor model is 0.78193943745052819"
   ]
  },
  {
   "cell_type": "code",
   "execution_count": 29,
   "metadata": {
    "collapsed": true
   },
   "outputs": [],
   "source": [
    "msRScor = mean_squared_error(y_test,yRPre)"
   ]
  },
  {
   "cell_type": "code",
   "execution_count": 30,
   "metadata": {
    "collapsed": false
   },
   "outputs": [
    {
     "data": {
      "text/plain": [
       "17.407438471348044"
      ]
     },
     "execution_count": 30,
     "metadata": {},
     "output_type": "execute_result"
    }
   ],
   "source": [
    "msRScor"
   ]
  },
  {
   "cell_type": "markdown",
   "metadata": {},
   "source": [
    "MSE on the Ridge linear regressor model is 17.407438471348044"
   ]
  },
  {
   "cell_type": "code",
   "execution_count": null,
   "metadata": {
    "collapsed": true
   },
   "outputs": [],
   "source": []
  }
 ],
 "metadata": {
  "kernelspec": {
   "display_name": "Python 3",
   "language": "python",
   "name": "python3"
  },
  "language_info": {
   "codemirror_mode": {
    "name": "ipython",
    "version": 3
   },
   "file_extension": ".py",
   "mimetype": "text/x-python",
   "name": "python",
   "nbconvert_exporter": "python",
   "pygments_lexer": "ipython3",
   "version": "3.6.0"
  }
 },
 "nbformat": 4,
 "nbformat_minor": 2
}
